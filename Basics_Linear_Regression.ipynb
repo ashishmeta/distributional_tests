{
 "cells": [
  {
   "cell_type": "markdown",
   "metadata": {},
   "source": [
    "### Basics of Linear Regression ###"
   ]
  },
  {
   "cell_type": "markdown",
   "metadata": {},
   "source": [
    "What is it?\n",
    "> I presume that everyone who is looking at this knows what is regression. But, let's start from first principles. If you think about it, regression is really just about trying to find some way to infer y (the dependent variable) from one x (the independent variable) or a number of them. So, let's start from the most common measure of relationships."
   ]
  },
  {
   "cell_type": "markdown",
   "metadata": {},
   "source": [
    "**Correlation & Covariance**<br>\n",
    "These two measures are very similar - the key difference is that correlation deals with variables that have been standardised, but co-variance does not (and so is affected by the scale of variables that you are working with). "
   ]
  },
  {
   "cell_type": "markdown",
   "metadata": {},
   "source": [
    "What do you mean by standardisation?"
   ]
  },
  {
   "cell_type": "code",
   "execution_count": 1,
   "metadata": {},
   "outputs": [
    {
     "data": {
      "text/plain": [
       "array([-1.22686178e-01, -1.77855485e+00,  8.32336364e-01, -1.06113897e+00,\n",
       "       -5.76752454e-01,  6.51495778e-02, -1.66875013e+00,  9.87885139e-01,\n",
       "       -9.78652503e-01, -6.58854803e-01,  6.70000000e+01,  7.10000000e+01,\n",
       "        6.20000000e+01])"
      ]
     },
     "execution_count": 1,
     "metadata": {},
     "output_type": "execute_result"
    }
   ],
   "source": [
    "import numpy as np\n",
    "import numpy.random as npr\n",
    "\n",
    "# Say you had a series of observations of x drawn from two different generators\n",
    "x1 = npr.randn(10)\n",
    "x2 = [npr.randint(100), npr.randint(100), npr.randint(100)]\n",
    "x = np.hstack((x1,x2))\n",
    "x"
   ]
  },
  {
   "cell_type": "markdown",
   "metadata": {},
   "source": [
    "To standardise or normalise them, you simply compute the mean and standard deviation of the the series, and then do this to each of the elements in the series/array so that they are at a similar scale."
   ]
  },
  {
   "cell_type": "code",
   "execution_count": 2,
   "metadata": {},
   "outputs": [
    {
     "data": {
      "text/plain": [
       "array([-0.53328412, -0.59166455, -0.4996132 , -0.56637085, -0.54929299,\n",
       "       -0.52666166, -0.5877932 , -0.49412906, -0.56346265, -0.55218765,\n",
       "        1.83323887,  1.97426558,  1.65695547])"
      ]
     },
     "execution_count": 2,
     "metadata": {},
     "output_type": "execute_result"
    }
   ],
   "source": [
    "def normalise(x):\n",
    "    return (x-np.mean(x))/np.std(x)\n",
    "\n",
    "normalise(x)"
   ]
  },
  {
   "cell_type": "markdown",
   "metadata": {},
   "source": [
    "Even something as simple as normalisation has an immediate application - \n",
    "> In credit risk modelling, you often hear about transformation of the risk factors. All that is being done under that is applying such a standardisation and normalisation process to the risk factors being used to build the credit model (so that the scale between all the factors is similar) - We will see this later in subsequent notebooks on regression."
   ]
  },
  {
   "cell_type": "markdown",
   "metadata": {},
   "source": [
    "**Covariance**<br>\n",
    "<br>\n",
    "$cov(x_i, y) = \\frac{1}{n}*\\sum{(x_i-\\bar{x_i})*(y-\\bar{y})}$<br>\n",
    "<br>\n",
    "**Correlation**<br>\n",
    "<br>\n",
    "$corr(x_i, y) = \\frac{1}{n}*\\frac{\\sum{(x_i-\\bar{x_i})*(y-\\bar{y})}}{\\sigma_{x_i}\\sigma_{y}}$<br>\n",
    "<br>"
   ]
  },
  {
   "cell_type": "code",
   "execution_count": 3,
   "metadata": {
    "collapsed": true
   },
   "outputs": [],
   "source": [
    "# Two ways of going about it\n",
    "\n",
    "# 1. Organically written functions\n",
    "def covariance(var1, var2, bias=0):\n",
    "    observations = float(len(var1))\n",
    "    return np.sum((var1-np.mean(var1))*(var2-np.mean(var2)))/(observations-min(bias, 1))\n",
    "\n",
    "def correlation(var1,var2,bias=0):\n",
    "    return covariance(normalise(var1),normalise(var2),bias)\n",
    "\n",
    "# 2. Using scipy function\n",
    "from scipy.stats.stats import pearsonr"
   ]
  },
  {
   "cell_type": "code",
   "execution_count": 4,
   "metadata": {
    "collapsed": true
   },
   "outputs": [],
   "source": [
    "# First we generate correlated data\n",
    "\n",
    "xx = np.array([-0.51, 51.2])\n",
    "yy = np.array([0.33, 51.6])\n",
    "means = [xx.mean(), yy.mean()]  \n",
    "stds = [xx.std() / 3, yy.std() / 3]\n",
    "corr = 0.8         # correlation\n",
    "covs = [[stds[0]**2          , stds[0]*stds[1]*corr], \n",
    "        [stds[0]*stds[1]*corr,           stds[1]**2]] \n",
    "\n",
    "m = np.random.multivariate_normal(means, covs, 1000).T"
   ]
  },
  {
   "cell_type": "code",
   "execution_count": 5,
   "metadata": {},
   "outputs": [
    {
     "data": {
      "text/plain": [
       "0.8042625835876421"
      ]
     },
     "execution_count": 5,
     "metadata": {},
     "output_type": "execute_result"
    }
   ],
   "source": [
    "correlation(m[0,:], m[1,:])"
   ]
  },
  {
   "cell_type": "code",
   "execution_count": 6,
   "metadata": {
    "scrolled": true
   },
   "outputs": [
    {
     "data": {
      "text/plain": [
       "(0.8042625835876421, 8.618963256305702e-228)"
      ]
     },
     "execution_count": 6,
     "metadata": {},
     "output_type": "execute_result"
    }
   ],
   "source": [
    "pearsonr(m[0,:], m[1,:])"
   ]
  },
  {
   "cell_type": "code",
   "execution_count": 7,
   "metadata": {},
   "outputs": [
    {
     "data": {
      "text/plain": [
       "([-5.975029158142881, 56.60555769589914],\n",
       " [-11.194140548845066, 56.00734192592786])"
      ]
     },
     "execution_count": 7,
     "metadata": {},
     "output_type": "execute_result"
    }
   ],
   "source": [
    "%matplotlib inline\n",
    "import matplotlib.pyplot as plt\n",
    "x_range = [m[0,:].min(),m[0,:].max()]\n",
    "y_range = [m[1,:].min(),m[1,:].max()]\n",
    "x_range, y_range"
   ]
  },
  {
   "cell_type": "code",
   "execution_count": 8,
   "metadata": {
    "scrolled": true
   },
   "outputs": [
    {
     "data": {
      "text/plain": [
       "[<matplotlib.lines.Line2D at 0x10c248278>]"
      ]
     },
     "execution_count": 8,
     "metadata": {},
     "output_type": "execute_result"
    },
    {
     "data": {
      "image/png": "[encoded data removed]",
      "text/plain": [
       "<matplotlib.figure.Figure at 0x10afcbeb8>"
      ]
     },
     "metadata": {},
     "output_type": "display_data"
    }
   ],
   "source": [
    "plt.plot(m[0,:], m[1,:], 'ro')"
   ]
  },
  {
   "cell_type": "markdown",
   "metadata": {},
   "source": [
    "### Primer - Simple Linear Regression ###"
   ]
  },
  {
   "cell_type": "markdown",
   "metadata": {},
   "source": [
    "Now we more on to regression. "
   ]
  },
  {
   "cell_type": "markdown",
   "metadata": {},
   "source": [
    "Sum of squares - general formula <br>\n",
    "* $ss_{xx} = \\sum_{i=1}^{n}(x_i-\\bar{x})^2$<br>\n",
    "* $ss_{yy} = \\sum_{i=1}^{n}(y_i-\\bar{y})^2$<br>\n",
    "* $ss_{xy} = \\sum_{i=1}^{n}(x_i-\\bar{x})(y_i-\\bar{y})$"
   ]
  },
  {
   "cell_type": "markdown",
   "metadata": {},
   "source": [
    "Using these variables, we can then plug these into the formula below to find the straight line $y = mx + c$ that minimises the SSE $R^2$<br>\n",
    "\n",
    "$m = \\frac{ss_{xy}}{ss_{xx}}$<br>\n",
    "$c = \\bar{y} - m\\bar{x}$"
   ]
  },
  {
   "cell_type": "markdown",
   "metadata": {},
   "source": [
    "The correlation coefficient, which you will realise is pretty close to the form we had above, is then commonly used to measure how good the fit is. <br>\n",
    "$r^2 = \\frac{ss_{xy}^2}{ss_{xx}ss_{yy}}$"
   ]
  },
  {
   "cell_type": "markdown",
   "metadata": {},
   "source": [
    "$y = mx + q$ is commonly called a Cartesian formulation and is two dimensional.<br>\n",
    "If there are multiple dimensions - $y = \\beta X + \\beta_0$ where y, $\\beta$ and X are vectors but the basic principle is the same. <br> "
   ]
  },
  {
   "cell_type": "markdown",
   "metadata": {},
   "source": [
    "The above just outlines the most simplistic approach. Most times, we will need to apply iterative procedures which can range from the simple such as Newton-Raphson method to Gradient Descent technique- which we will cover in another notebook."
   ]
  },
  {
   "cell_type": "markdown",
   "metadata": {
    "collapsed": true
   },
   "source": [
    "While we could write our own functions in Python to extend regression to more dimensions, employ more sophisicated iterative procedures, or to go beyond linear relationships, there really is no need to in Python (just as you would not do so in Matlab, R or SPSS). The most established Python libraries in this regard would be the Statsmodels and Scipy/Scikit libraries."
   ]
  },
  {
   "cell_type": "markdown",
   "metadata": {},
   "source": [
    "### Statsmodels ###"
   ]
  },
  {
   "cell_type": "markdown",
   "metadata": {},
   "source": [
    "First, let's try something simple with Statsmodels"
   ]
  },
  {
   "cell_type": "markdown",
   "metadata": {},
   "source": [
    "Let's use data from Singapore's public data portal - https://data.gov.sg/\n",
    "I've downloaded the property price index (ppi.csv) and the resale index ('resale.csv'). There is of course a clear relationship between the two, and so it's a good way to illustrate linear regression"
   ]
  },
  {
   "cell_type": "code",
   "execution_count": 68,
   "metadata": {
    "collapsed": true
   },
   "outputs": [],
   "source": [
    "import statsmodels.api as sm\n",
    "import statsmodels.formula.api as smf\n",
    "import pandas as pd"
   ]
  },
  {
   "cell_type": "code",
   "execution_count": 69,
   "metadata": {
    "collapsed": true
   },
   "outputs": [],
   "source": [
    "resale = pd.read_csv('resale.csv')"
   ]
  },
  {
   "cell_type": "code",
   "execution_count": 70,
   "metadata": {},
   "outputs": [
    {
     "data": {
      "text/html": [
       "<div>\n",
       "<table border=\"1\" class=\"dataframe\">\n",
       "  <thead>\n",
       "    <tr style=\"text-align: right;\">\n",
       "      <th></th>\n",
       "      <th>quarter</th>\n",
       "      <th>index</th>\n",
       "    </tr>\n",
       "  </thead>\n",
       "  <tbody>\n",
       "    <tr>\n",
       "      <th>0</th>\n",
       "      <td>1990-Q1</td>\n",
       "      <td>24.3</td>\n",
       "    </tr>\n",
       "    <tr>\n",
       "      <th>1</th>\n",
       "      <td>1990-Q2</td>\n",
       "      <td>24.4</td>\n",
       "    </tr>\n",
       "    <tr>\n",
       "      <th>2</th>\n",
       "      <td>1990-Q3</td>\n",
       "      <td>25.0</td>\n",
       "    </tr>\n",
       "    <tr>\n",
       "      <th>3</th>\n",
       "      <td>1990-Q4</td>\n",
       "      <td>24.7</td>\n",
       "    </tr>\n",
       "    <tr>\n",
       "      <th>4</th>\n",
       "      <td>1991-Q1</td>\n",
       "      <td>24.9</td>\n",
       "    </tr>\n",
       "  </tbody>\n",
       "</table>\n",
       "</div>"
      ],
      "text/plain": [
       "   quarter  index\n",
       "0  1990-Q1   24.3\n",
       "1  1990-Q2   24.4\n",
       "2  1990-Q3   25.0\n",
       "3  1990-Q4   24.7\n",
       "4  1991-Q1   24.9"
      ]
     },
     "execution_count": 70,
     "metadata": {},
     "output_type": "execute_result"
    }
   ],
   "source": [
    "resale.head()"
   ]
  },
  {
   "cell_type": "code",
   "execution_count": 71,
   "metadata": {
    "collapsed": true
   },
   "outputs": [],
   "source": [
    "ppi = pd.read_csv('ppi.csv')"
   ]
  },
  {
   "cell_type": "code",
   "execution_count": 72,
   "metadata": {},
   "outputs": [
    {
     "data": {
      "text/html": [
       "<div>\n",
       "<table border=\"1\" class=\"dataframe\">\n",
       "  <thead>\n",
       "    <tr style=\"text-align: right;\">\n",
       "      <th></th>\n",
       "      <th>quarter</th>\n",
       "      <th>level_1</th>\n",
       "      <th>value</th>\n",
       "    </tr>\n",
       "  </thead>\n",
       "  <tbody>\n",
       "    <tr>\n",
       "      <th>0</th>\n",
       "      <td>1975-Q1</td>\n",
       "      <td>Residential Properties</td>\n",
       "      <td>8.9</td>\n",
       "    </tr>\n",
       "    <tr>\n",
       "      <th>1</th>\n",
       "      <td>1975-Q2</td>\n",
       "      <td>Residential Properties</td>\n",
       "      <td>9.1</td>\n",
       "    </tr>\n",
       "    <tr>\n",
       "      <th>2</th>\n",
       "      <td>1975-Q3</td>\n",
       "      <td>Residential Properties</td>\n",
       "      <td>9.1</td>\n",
       "    </tr>\n",
       "    <tr>\n",
       "      <th>3</th>\n",
       "      <td>1975-Q4</td>\n",
       "      <td>Residential Properties</td>\n",
       "      <td>9.1</td>\n",
       "    </tr>\n",
       "    <tr>\n",
       "      <th>4</th>\n",
       "      <td>1976-Q1</td>\n",
       "      <td>Residential Properties</td>\n",
       "      <td>9.5</td>\n",
       "    </tr>\n",
       "  </tbody>\n",
       "</table>\n",
       "</div>"
      ],
      "text/plain": [
       "   quarter                 level_1  value\n",
       "0  1975-Q1  Residential Properties    8.9\n",
       "1  1975-Q2  Residential Properties    9.1\n",
       "2  1975-Q3  Residential Properties    9.1\n",
       "3  1975-Q4  Residential Properties    9.1\n",
       "4  1976-Q1  Residential Properties    9.5"
      ]
     },
     "execution_count": 72,
     "metadata": {},
     "output_type": "execute_result"
    }
   ],
   "source": [
    "ppi.head()"
   ]
  },
  {
   "cell_type": "code",
   "execution_count": 73,
   "metadata": {},
   "outputs": [],
   "source": [
    "merged = pd.merge(ppi, resale, on='quarter')\n",
    "merged = merged.drop(['level_1'], axis=1)\n",
    "merged.columns = ['Quarter', 'Resale Index', 'PPI']"
   ]
  },
  {
   "cell_type": "code",
   "execution_count": 74,
   "metadata": {},
   "outputs": [
    {
     "data": {
      "text/html": [
       "<div>\n",
       "<table border=\"1\" class=\"dataframe\">\n",
       "  <thead>\n",
       "    <tr style=\"text-align: right;\">\n",
       "      <th></th>\n",
       "      <th>Quarter</th>\n",
       "      <th>Resale Index</th>\n",
       "      <th>PPI</th>\n",
       "    </tr>\n",
       "  </thead>\n",
       "  <tbody>\n",
       "    <tr>\n",
       "      <th>0</th>\n",
       "      <td>1990-Q1</td>\n",
       "      <td>40.9</td>\n",
       "      <td>24.3</td>\n",
       "    </tr>\n",
       "    <tr>\n",
       "      <th>1</th>\n",
       "      <td>1990-Q2</td>\n",
       "      <td>41.8</td>\n",
       "      <td>24.4</td>\n",
       "    </tr>\n",
       "    <tr>\n",
       "      <th>2</th>\n",
       "      <td>1990-Q3</td>\n",
       "      <td>42.0</td>\n",
       "      <td>25.0</td>\n",
       "    </tr>\n",
       "    <tr>\n",
       "      <th>3</th>\n",
       "      <td>1990-Q4</td>\n",
       "      <td>40.3</td>\n",
       "      <td>24.7</td>\n",
       "    </tr>\n",
       "    <tr>\n",
       "      <th>4</th>\n",
       "      <td>1991-Q1</td>\n",
       "      <td>42.1</td>\n",
       "      <td>24.9</td>\n",
       "    </tr>\n",
       "  </tbody>\n",
       "</table>\n",
       "</div>"
      ],
      "text/plain": [
       "   Quarter  Resale Index   PPI\n",
       "0  1990-Q1          40.9  24.3\n",
       "1  1990-Q2          41.8  24.4\n",
       "2  1990-Q3          42.0  25.0\n",
       "3  1990-Q4          40.3  24.7\n",
       "4  1991-Q1          42.1  24.9"
      ]
     },
     "execution_count": 74,
     "metadata": {},
     "output_type": "execute_result"
    }
   ],
   "source": [
    "merged.head()"
   ]
  },
  {
   "cell_type": "code",
   "execution_count": 36,
   "metadata": {},
   "outputs": [
    {
     "data": {
      "text/plain": [
       "[<matplotlib.lines.Line2D at 0x10e9884a8>]"
      ]
     },
     "execution_count": 36,
     "metadata": {},
     "output_type": "execute_result"
    },
    {
     "data": {
      "image/png": "[encoded data removed]",
      "text/plain": [
       "<matplotlib.figure.Figure at 0x10e74ba90>"
      ]
     },
     "metadata": {},
     "output_type": "display_data"
    }
   ],
   "source": [
    "plt.plot(merged['Resale Index'], merged['PPI'], 'ro')"
   ]
  },
  {
   "cell_type": "markdown",
   "metadata": {},
   "source": [
    "There seems to be a trend (which is exactly what we expected), so let's regress! We will predict the Resale Index(get the y) based on the PPI (i.e. the X)."
   ]
  },
  {
   "cell_type": "code",
   "execution_count": 75,
   "metadata": {
    "collapsed": true
   },
   "outputs": [],
   "source": [
    "y = merged['Resale Index']\n",
    "X = merged['PPI']\n",
    "X = sm.add_constant(X)"
   ]
  },
  {
   "cell_type": "code",
   "execution_count": 45,
   "metadata": {},
   "outputs": [
    {
     "data": {
      "text/html": [
       "<div>\n",
       "<table border=\"1\" class=\"dataframe\">\n",
       "  <thead>\n",
       "    <tr style=\"text-align: right;\">\n",
       "      <th></th>\n",
       "      <th>const</th>\n",
       "      <th>PPI</th>\n",
       "    </tr>\n",
       "  </thead>\n",
       "  <tbody>\n",
       "    <tr>\n",
       "      <th>0</th>\n",
       "      <td>1.0</td>\n",
       "      <td>24.3</td>\n",
       "    </tr>\n",
       "    <tr>\n",
       "      <th>1</th>\n",
       "      <td>1.0</td>\n",
       "      <td>24.4</td>\n",
       "    </tr>\n",
       "    <tr>\n",
       "      <th>2</th>\n",
       "      <td>1.0</td>\n",
       "      <td>25.0</td>\n",
       "    </tr>\n",
       "  </tbody>\n",
       "</table>\n",
       "</div>"
      ],
      "text/plain": [
       "   const   PPI\n",
       "0    1.0  24.3\n",
       "1    1.0  24.4\n",
       "2    1.0  25.0"
      ]
     },
     "execution_count": 45,
     "metadata": {},
     "output_type": "execute_result"
    }
   ],
   "source": [
    "X.head(3)"
   ]
  },
  {
   "cell_type": "code",
   "execution_count": 46,
   "metadata": {
    "collapsed": true
   },
   "outputs": [],
   "source": [
    "# 2 ways of doing this\n",
    "linear_regression = sm.OLS(y,X)\n",
    "fitted = linear_regression.fit()"
   ]
  },
  {
   "cell_type": "code",
   "execution_count": 47,
   "metadata": {
    "collapsed": true
   },
   "outputs": [],
   "source": [
    "#This might be more familiar to R users\n",
    "# linear_regression = smf.ols(formula = 'Resale Index~PPI', data=merged)\n",
    "# fitted = linear_regression.fit()"
   ]
  },
  {
   "cell_type": "code",
   "execution_count": 48,
   "metadata": {},
   "outputs": [
    {
     "data": {
      "text/html": [
       "<table class=\"simpletable\">\n",
       "<caption>OLS Regression Results</caption>\n",
       "<tr>\n",
       "  <th>Dep. Variable:</th>      <td>Resale Index</td>   <th>  R-squared:         </th> <td>   0.894</td>\n",
       "</tr>\n",
       "<tr>\n",
       "  <th>Model:</th>                   <td>OLS</td>       <th>  Adj. R-squared:    </th> <td>   0.893</td>\n",
       "</tr>\n",
       "<tr>\n",
       "  <th>Method:</th>             <td>Least Squares</td>  <th>  F-statistic:       </th> <td>   946.5</td>\n",
       "</tr>\n",
       "<tr>\n",
       "  <th>Date:</th>             <td>Sat, 15 Sep 2018</td> <th>  Prob (F-statistic):</th> <td>1.88e-56</td>\n",
       "</tr>\n",
       "<tr>\n",
       "  <th>Time:</th>                 <td>10:09:14</td>     <th>  Log-Likelihood:    </th> <td> -430.50</td>\n",
       "</tr>\n",
       "<tr>\n",
       "  <th>No. Observations:</th>      <td>   114</td>      <th>  AIC:               </th> <td>   865.0</td>\n",
       "</tr>\n",
       "<tr>\n",
       "  <th>Df Residuals:</th>          <td>   112</td>      <th>  BIC:               </th> <td>   870.5</td>\n",
       "</tr>\n",
       "<tr>\n",
       "  <th>Df Model:</th>              <td>     1</td>      <th>                     </th>     <td> </td>   \n",
       "</tr>\n",
       "<tr>\n",
       "  <th>Covariance Type:</th>      <td>nonrobust</td>    <th>                     </th>     <td> </td>   \n",
       "</tr>\n",
       "</table>\n",
       "<table class=\"simpletable\">\n",
       "<tr>\n",
       "    <td></td>       <th>coef</th>     <th>std err</th>      <th>t</th>      <th>P>|t|</th>  <th>[0.025</th>    <th>0.975]</th>  \n",
       "</tr>\n",
       "<tr>\n",
       "  <th>const</th> <td>   30.0412</td> <td>    2.633</td> <td>   11.409</td> <td> 0.000</td> <td>   24.824</td> <td>   35.258</td>\n",
       "</tr>\n",
       "<tr>\n",
       "  <th>PPI</th>   <td>    0.8462</td> <td>    0.028</td> <td>   30.766</td> <td> 0.000</td> <td>    0.792</td> <td>    0.901</td>\n",
       "</tr>\n",
       "</table>\n",
       "<table class=\"simpletable\">\n",
       "<tr>\n",
       "  <th>Omnibus:</th>       <td>21.226</td> <th>  Durbin-Watson:     </th> <td>   0.118</td>\n",
       "</tr>\n",
       "<tr>\n",
       "  <th>Prob(Omnibus):</th> <td> 0.000</td> <th>  Jarque-Bera (JB):  </th> <td>  26.512</td>\n",
       "</tr>\n",
       "<tr>\n",
       "  <th>Skew:</th>          <td> 1.040</td> <th>  Prob(JB):          </th> <td>1.75e-06</td>\n",
       "</tr>\n",
       "<tr>\n",
       "  <th>Kurtosis:</th>      <td> 4.120</td> <th>  Cond. No.          </th> <td>    253.</td>\n",
       "</tr>\n",
       "</table><br/><br/>Warnings:<br/>[1] Standard Errors assume that the covariance matrix of the errors is correctly specified."
      ],
      "text/plain": [
       "<class 'statsmodels.iolib.summary.Summary'>\n",
       "\"\"\"\n",
       "                            OLS Regression Results                            \n",
       "==============================================================================\n",
       "Dep. Variable:           Resale Index   R-squared:                       0.894\n",
       "Model:                            OLS   Adj. R-squared:                  0.893\n",
       "Method:                 Least Squares   F-statistic:                     946.5\n",
       "Date:                Sat, 15 Sep 2018   Prob (F-statistic):           1.88e-56\n",
       "Time:                        10:09:14   Log-Likelihood:                -430.50\n",
       "No. Observations:                 114   AIC:                             865.0\n",
       "Df Residuals:                     112   BIC:                             870.5\n",
       "Df Model:                           1                                         \n",
       "Covariance Type:            nonrobust                                         \n",
       "==============================================================================\n",
       "                 coef    std err          t      P>|t|      [0.025      0.975]\n",
       "------------------------------------------------------------------------------\n",
       "const         30.0412      2.633     11.409      0.000      24.824      35.258\n",
       "PPI            0.8462      0.028     30.766      0.000       0.792       0.901\n",
       "==============================================================================\n",
       "Omnibus:                       21.226   Durbin-Watson:                   0.118\n",
       "Prob(Omnibus):                  0.000   Jarque-Bera (JB):               26.512\n",
       "Skew:                           1.040   Prob(JB):                     1.75e-06\n",
       "Kurtosis:                       4.120   Cond. No.                         253.\n",
       "==============================================================================\n",
       "\n",
       "Warnings:\n",
       "[1] Standard Errors assume that the covariance matrix of the errors is correctly specified.\n",
       "\"\"\""
      ]
     },
     "execution_count": 48,
     "metadata": {},
     "output_type": "execute_result"
    }
   ],
   "source": [
    "fitted.summary()"
   ]
  },
  {
   "cell_type": "markdown",
   "metadata": {},
   "source": [
    "Quick description of key fields -\n",
    "* Self explanatory - Dep. Variable, Model, Method, No. Observations\n",
    "* DF Residuals: # of observations minus the # of parameters\n",
    "* DF Model: The number of estimated parameters in the model (excluding the constant term from the count)\n",
    "\n",
    "* R-squared: This is the coefficient of determination, a measure of how well the regression does with respect to a simple mean.\n",
    "* Adj. R-squared: This is the coefficient of determination adjusted based on the number of parameters in a model and the number of observations that helped build it.\n",
    "* F-statistic: This is a measure telling you if, from a statistical point of view, all your coefficients, apart from the bias and taken together, are different from zero. In simple words, it tells you if your regression is really better than a simple average.\n",
    "* Prob (F-statistic): This is the probability that you got that F-statistic just by lucky chance due to the observations that you have used (such a probability is actually called the p-value of F-statistic). If it is low enough you can be confident that your regression is really better than a simple mean. Usually in statistics and science a test probability has to be equal or lower than 0.05 (a conventional criterion of statistical significance) for having such a confidence.\n",
    "* AIC: Akaike Information Criterion. AIC is a score that evaluates the model based on the number of observations and the complexity of the model itself. The lesser the AIC score, the better. \n",
    "* BIC: Bayesian Information Criterion. It works as AIC, but it presents a higher penalty for models with more parameters.\n",
    "<hr>\n",
    "* coef: Estimated coefficient\n",
    "* std err: Standard error of the estimate of the coefficient\n",
    "* t: t-statistic value, indicating whether the coefficient's true value is different from zero\n",
    "* P > |t|: p-value indicating the probability that the coefficient is different from zero by chance\n",
    "* 95.0% Conf. Interval: Lower and upper values of the coefficient, considering 95% of all the chances of having different observations and so different estimated coefficients\n",
    "<hr>\n",
    "* Skewness: Measure of the symmetry of residuals around the mean. If symmetric, the value should be around zero. Positive value indicates a long tail to the right; negative value a long tail to the left.\n",
    "* Kurtosis: Measure of the shape of the distribution of the residuals. A bell-shaped distribution has a zero measure. A negative value points to a too flat distribution; a positive one has too great a peak.\n",
    "* Omnibus D'Angostino's test: This is a combined statistical test for skewness and kurtosis.\n",
    "* Prob(Omnibus): This is the Omnibus statistic turned into a probability.\n",
    "* Jarque-Bera: This is another test of skewness and kurtosis.\n",
    "* Prob (JB): This is the JB statistic turned into a probability.\n",
    "* Durbin-Watson: This is a test for the presence of correlation among the residuals (relevant during analysis of time-based data).\n",
    "* Cond. No: This is a test for multicollinearity (we will deal with the concept of multicollinearity when working with many predictors)."
   ]
  },
  {
   "cell_type": "code",
   "execution_count": 49,
   "metadata": {},
   "outputs": [
    {
     "data": {
      "text/plain": [
       "0.8941928241626816"
      ]
     },
     "execution_count": 49,
     "metadata": {},
     "output_type": "execute_result"
    }
   ],
   "source": [
    "# Recall the previous discussion on correlation. R-squared can be computed as follows.\n",
    "fitted_values = fitted.predict(X)\n",
    "mean_sum_squared_errors = np.sum((merged['Resale Index']-merged['Resale Index'].mean())**2)\n",
    "regr_sum_squared_errors = np.sum((merged['Resale Index']-fitted_values)**2)\n",
    "\n",
    "(mean_sum_squared_errors-regr_sum_squared_errors) / mean_sum_squared_errors"
   ]
  },
  {
   "cell_type": "code",
   "execution_count": 50,
   "metadata": {},
   "outputs": [
    {
     "data": {
      "text/plain": [
       "0.8941928241626816"
      ]
     },
     "execution_count": 50,
     "metadata": {},
     "output_type": "execute_result"
    }
   ],
   "source": [
    "(pearsonr(merged['PPI'], merged['Resale Index'])[0])**2"
   ]
  },
  {
   "cell_type": "markdown",
   "metadata": {},
   "source": [
    "Visualisation of residuals"
   ]
  },
  {
   "cell_type": "code",
   "execution_count": 51,
   "metadata": {},
   "outputs": [
    {
     "data": {
      "text/plain": [
       "[<matplotlib.lines.Line2D at 0x10eb5f898>]"
      ]
     },
     "execution_count": 51,
     "metadata": {},
     "output_type": "execute_result"
    },
    {
     "data": {
      "image/png": "[encoded data removed]",
      "text/plain": [
       "<matplotlib.figure.Figure at 0x10eae2550>"
      ]
     },
     "metadata": {},
     "output_type": "display_data"
    }
   ],
   "source": [
    "residuals = merged['Resale Index']-fitted_values\n",
    "normalised_residuals = normalise(residuals)\n",
    "plt.plot(normalised_residuals, merged['PPI'], 'ro')\n",
    "# Note the clustering, and  also the outliers"
   ]
  },
  {
   "cell_type": "markdown",
   "metadata": {},
   "source": [
    "Now we can use the 'fitted' model to predict and plot the line"
   ]
  },
  {
   "cell_type": "code",
   "execution_count": 54,
   "metadata": {},
   "outputs": [
    {
     "data": {
      "image/png": "[encoded data removed]",
      "text/plain": [
       "<matplotlib.figure.Figure at 0x10eac1f28>"
      ]
     },
     "metadata": {},
     "output_type": "display_data"
    }
   ],
   "source": [
    "x_range = [merged['PPI'].min(), merged['PPI'].max()]\n",
    "y_range = [merged['Resale Index'].min(), merged['Resale Index'].max()]\n",
    "scatter_plot = merged.plot(kind='scatter', x='PPI', y='Resale Index', xlim=x_range, ylim=y_range)\n",
    "meanY = scatter_plot.plot(x_range, [merged['Resale Index'].mean(),merged['Resale Index'].mean()], '--', color='red', linewidth=1)\n",
    "meanX = scatter_plot.plot([merged['PPI'].mean(),merged['PPI'].mean()], y_range, '--', color='blue', linewidth=1)\n",
    "regression_line = scatter_plot.plot(merged['PPI'], fitted_values, '-', color='orange', linewidth=1.5)"
   ]
  },
  {
   "cell_type": "code",
   "execution_count": 55,
   "metadata": {},
   "outputs": [
    {
     "data": {
      "text/plain": [
       "array([50.60293413, 50.68755041, 51.19524808, 50.94139924, 51.1106318 ])"
      ]
     },
     "execution_count": 55,
     "metadata": {},
     "output_type": "execute_result"
    }
   ],
   "source": [
    "# Dot product - akin to what you would usually use in Matlab\n",
    "betas = np.array(fitted.params)\n",
    "fitted_values = fitted.predict(X)\n",
    "predictions_by_dot_product = np.dot(X,betas)\n",
    "predictions_by_dot_product[:5]"
   ]
  },
  {
   "cell_type": "code",
   "execution_count": 56,
   "metadata": {},
   "outputs": [
    {
     "data": {
      "text/plain": [
       "0    50.602934\n",
       "1    50.687550\n",
       "2    51.195248\n",
       "3    50.941399\n",
       "4    51.110632\n",
       "dtype: float64"
      ]
     },
     "execution_count": 56,
     "metadata": {},
     "output_type": "execute_result"
    }
   ],
   "source": [
    "fitted.predict(X)[:5]"
   ]
  },
  {
   "cell_type": "markdown",
   "metadata": {},
   "source": [
    "Scikit-learn also offers libraries for regressions. Which one to use is really a matter of context and familiarity. Generally statsmodels is used in for statistical context"
   ]
  },
  {
   "cell_type": "code",
   "execution_count": 57,
   "metadata": {
    "collapsed": true
   },
   "outputs": [],
   "source": [
    "from sklearn import linear_model\n",
    "linear_regression = linear_model.LinearRegression(normalize=False, fit_intercept=True)"
   ]
  },
  {
   "cell_type": "code",
   "execution_count": 58,
   "metadata": {},
   "outputs": [
    {
     "name": "stderr",
     "output_type": "stream",
     "text": [
      "//anaconda/envs/pydata/lib/python3.5/site-packages/sklearn/linear_model/base.py:509: RuntimeWarning: internal gelsd driver lwork query error, required iwork dimension not returned. This is likely the result of LAPACK bug 0038, fixed in LAPACK 3.2.2 (released July 21, 2010). Falling back to 'gelss' driver.\n",
      "  linalg.lstsq(X, y)\n"
     ]
    },
    {
     "data": {
      "text/plain": [
       "LinearRegression(copy_X=True, fit_intercept=True, n_jobs=1, normalize=False)"
      ]
     },
     "execution_count": 58,
     "metadata": {},
     "output_type": "execute_result"
    }
   ],
   "source": [
    "observations = len(merged) # of training instances\n",
    "\n",
    "# From a vector of 506 elements to a 506x1 matrix - which is needed for using X in sklearn\n",
    "X = merged['PPI'].values.reshape((observations,1)) \n",
    "y = merged['Resale Index'].values # y can be a vector\n",
    "\n",
    "linear_regression.fit(X, y)"
   ]
  },
  {
   "cell_type": "code",
   "execution_count": 60,
   "metadata": {},
   "outputs": [
    {
     "name": "stdout",
     "output_type": "stream",
     "text": [
      "Linear regression coefficient 0.8; intercept 30.0\n"
     ]
    }
   ],
   "source": [
    "print(\"Linear regression coefficient %0.1f; intercept %0.1f\" %(linear_regression.coef_, linear_regression.intercept_))"
   ]
  },
  {
   "cell_type": "markdown",
   "metadata": {},
   "source": [
    "As before, can use predict or self compute the results of the model"
   ]
  },
  {
   "cell_type": "code",
   "execution_count": 62,
   "metadata": {},
   "outputs": [
    {
     "name": "stdout",
     "output_type": "stream",
     "text": [
      "[50.60293413 50.68755041 51.19524808 50.94139924 51.1106318  51.61832947\n",
      " 51.36448063 51.27986436 51.8721783  53.22603876]\n"
     ]
    }
   ],
   "source": [
    "print(linear_regression.predict(X)[:10])"
   ]
  },
  {
   "cell_type": "code",
   "execution_count": 63,
   "metadata": {},
   "outputs": [
    {
     "data": {
      "text/plain": [
       "array([50.60293413, 50.68755041, 51.19524808, 50.94139924, 51.1106318 ,\n",
       "       51.61832947, 51.36448063, 51.27986436, 51.8721783 , 53.22603876])"
      ]
     },
     "execution_count": 63,
     "metadata": {},
     "output_type": "execute_result"
    }
   ],
   "source": [
    "Xp = np.column_stack((X,np.ones(observations)))\n",
    "v_coef = list(linear_regression.coef_) +[linear_regression.intercept_]\n",
    "np.dot(Xp,v_coef)[:10]"
   ]
  },
  {
   "cell_type": "markdown",
   "metadata": {},
   "source": [
    "What's the key difference between using statsmodels and sklearn?\n",
    "> * sklearn has less statistical output, BUT\n",
    "* Will be much faster (as it has been developed for machine learning applications.\n"
   ]
  },
  {
   "cell_type": "markdown",
   "metadata": {},
   "source": [
    "### A Finance Example ###"
   ]
  },
  {
   "cell_type": "markdown",
   "metadata": {},
   "source": [
    "Recall CAPM, where the relationship between risk and returns can be described as -\n",
    "\n",
    "$$ R_i = R_f + \\beta_i(R_{mkt} - R_f) $$\n",
    "\n",
    "where $R_i$ is the return of security i, and it's beta is $\\beta_i$, and $R_f$ is the risk free returns."
   ]
  },
  {
   "cell_type": "markdown",
   "metadata": {},
   "source": [
    "Let's generate the stock and market returns "
   ]
  },
  {
   "cell_type": "markdown",
   "metadata": {},
   "source": [
    "http://pbpython.com/pandas-list-dict.html"
   ]
  },
  {
   "cell_type": "code",
   "execution_count": 64,
   "metadata": {
    "collapsed": true
   },
   "outputs": [],
   "source": [
    "import pandas as pd\n",
    "from collections import OrderedDict\n",
    "\n",
    "returns = OrderedDict({'timeperiod': [1,2,3,4,5], \n",
    "           'stockreturns': [0.65, 0.03, -0.059, -0.001, 0.0346], \n",
    "           'marketreturns': [0.055, -0.09, -0.041, 0.045, 0.022]})\n",
    "\n",
    "table = pd.DataFrame(returns)"
   ]
  },
  {
   "cell_type": "code",
   "execution_count": 65,
   "metadata": {},
   "outputs": [
    {
     "data": {
      "text/html": [
       "<div>\n",
       "<table border=\"1\" class=\"dataframe\">\n",
       "  <thead>\n",
       "    <tr style=\"text-align: right;\">\n",
       "      <th></th>\n",
       "      <th>timeperiod</th>\n",
       "      <th>stockreturns</th>\n",
       "      <th>marketreturns</th>\n",
       "    </tr>\n",
       "  </thead>\n",
       "  <tbody>\n",
       "    <tr>\n",
       "      <th>0</th>\n",
       "      <td>1</td>\n",
       "      <td>0.6500</td>\n",
       "      <td>0.055</td>\n",
       "    </tr>\n",
       "    <tr>\n",
       "      <th>1</th>\n",
       "      <td>2</td>\n",
       "      <td>0.0300</td>\n",
       "      <td>-0.090</td>\n",
       "    </tr>\n",
       "    <tr>\n",
       "      <th>2</th>\n",
       "      <td>3</td>\n",
       "      <td>-0.0590</td>\n",
       "      <td>-0.041</td>\n",
       "    </tr>\n",
       "    <tr>\n",
       "      <th>3</th>\n",
       "      <td>4</td>\n",
       "      <td>-0.0010</td>\n",
       "      <td>0.045</td>\n",
       "    </tr>\n",
       "    <tr>\n",
       "      <th>4</th>\n",
       "      <td>5</td>\n",
       "      <td>0.0346</td>\n",
       "      <td>0.022</td>\n",
       "    </tr>\n",
       "  </tbody>\n",
       "</table>\n",
       "</div>"
      ],
      "text/plain": [
       "   timeperiod  stockreturns  marketreturns\n",
       "0           1        0.6500          0.055\n",
       "1           2        0.0300         -0.090\n",
       "2           3       -0.0590         -0.041\n",
       "3           4       -0.0010          0.045\n",
       "4           5        0.0346          0.022"
      ]
     },
     "execution_count": 65,
     "metadata": {},
     "output_type": "execute_result"
    }
   ],
   "source": [
    "table"
   ]
  },
  {
   "cell_type": "markdown",
   "metadata": {},
   "source": [
    "To find the beta of a stock's returns, given market returns, we apply linear regression, based on the following equation\n",
    "\n",
    "$$ r_i = \\alpha + \\beta r_M$$"
   ]
  },
  {
   "cell_type": "code",
   "execution_count": 66,
   "metadata": {
    "collapsed": true
   },
   "outputs": [],
   "source": [
    "# Linear Regression\n",
    "\n",
    "from scipy import stats\n",
    "\n",
    "beta, alpha, r_value, p_value, std_err = \\\n",
    "stats.linregress(table['stockreturns'], table['marketreturns'])"
   ]
  },
  {
   "cell_type": "code",
   "execution_count": 67,
   "metadata": {},
   "outputs": [
    {
     "name": "stdout",
     "output_type": "stream",
     "text": [
      "The beta is 0.11\n"
     ]
    }
   ],
   "source": [
    "print('The beta is {:.2f}'.format(beta))"
   ]
  }
 ],
 "metadata": {
  "kernelspec": {
   "display_name": "Python [default]",
   "language": "python",
   "name": "python3"
  },
  "language_info": {
   "codemirror_mode": {
    "name": "ipython",
    "version": 3
   },
   "file_extension": ".py",
   "mimetype": "text/x-python",
   "name": "python",
   "nbconvert_exporter": "python",
   "pygments_lexer": "ipython3",
   "version": "3.5.3"
  }
 },
 "nbformat": 4,
 "nbformat_minor": 1
}
