{
 "cells": [
  {
   "cell_type": "markdown",
   "metadata": {},
   "source": [
    "### How normal are you? Checking distributional assumptions ###"
   ]
  },
  {
   "cell_type": "markdown",
   "metadata": {},
   "source": [
    "The need to understand the underlying distribution of data is critical in most parts of quantitative finance. Statistical tests can be applied for this purpose."
   ]
  },
  {
   "cell_type": "markdown",
   "metadata": {},
   "source": [
    "The assumption of a normal distribution is commonplace, so let's start with simple tests to check whether data follows a normal distribution."
   ]
  },
  {
   "cell_type": "code",
   "execution_count": 1,
   "metadata": {
    "collapsed": true
   },
   "outputs": [],
   "source": [
    "import warnings\n",
    "warnings.filterwarnings('ignore')"
   ]
  },
  {
   "cell_type": "code",
   "execution_count": 2,
   "metadata": {
    "collapsed": true
   },
   "outputs": [],
   "source": [
    "import numpy as np\n",
    "from scipy import stats\n",
    "\n",
    "# Create a normal distribution\n",
    "np.random.seed(42)\n",
    "mean = 1.2\n",
    "std = 0.3\n",
    "n = 10000\n",
    "\n",
    "returns = np.random.normal(mean, std, n)"
   ]
  },
  {
   "cell_type": "code",
   "execution_count": 3,
   "metadata": {},
   "outputs": [
    {
     "name": "stdout",
     "output_type": "stream",
     "text": [
      "Test stat:  0.9999347925186157 p value:  0.9987024664878845\n"
     ]
    }
   ],
   "source": [
    "# Shapiro-Wilk test for normality\n",
    "# See here for more details https://docs.scipy.org/doc/scipy-0.19.1/reference/generated/scipy.stats.shapiro.html\n",
    "\n",
    "print('Test stat: ', stats.shapiro(returns)[0], \n",
    "      'p value: ', stats.shapiro(returns)[1])"
   ]
  },
  {
   "cell_type": "markdown",
   "metadata": {},
   "source": [
    "The confidence level for the Shapiro-Wilk test is 95% and the null hypothesis is that returns follows a normal distribution. Since the P-value >> 0.05 (i.e. 5%), we accept the hypothesis that the returns follow a normal distribution"
   ]
  },
  {
   "cell_type": "code",
   "execution_count": 4,
   "metadata": {
    "collapsed": true
   },
   "outputs": [],
   "source": [
    "# let's create another distribution, this time an exponential one\n",
    "\n",
    "returns_exp = np.random.exponential(0.2, n)"
   ]
  },
  {
   "cell_type": "code",
   "execution_count": 5,
   "metadata": {
    "collapsed": true
   },
   "outputs": [],
   "source": [
    "import matplotlib\n",
    "import matplotlib.pyplot as plt\n",
    "% matplotlib inline"
   ]
  },
  {
   "cell_type": "code",
   "execution_count": 6,
   "metadata": {},
   "outputs": [
    {
     "data": {
      "image/png": "[encoded data removed]",
      "text/plain": [
       "<matplotlib.figure.Figure at 0x10e39cbe0>"
      ]
     },
     "metadata": {},
     "output_type": "display_data"
    }
   ],
   "source": [
    "plt.figure(figsize=(12,6))\n",
    "plt.subplot(121)\n",
    "plt.hist(returns_exp, bins=30)\n",
    "plt.title('Exponential')\n",
    "plt.subplot(122)\n",
    "plt.hist(returns, bins=30)\n",
    "plt.title('Normal')\n",
    "plt.show()"
   ]
  },
  {
   "cell_type": "code",
   "execution_count": 7,
   "metadata": {},
   "outputs": [
    {
     "name": "stdout",
     "output_type": "stream",
     "text": [
      "Test stat:  0.8156617879867554 p value:  0.0\n"
     ]
    }
   ],
   "source": [
    "print('Test stat: ', stats.shapiro(returns_exp)[0], \n",
    "      'p value: ', stats.shapiro(returns_exp)[1])"
   ]
  },
  {
   "cell_type": "markdown",
   "metadata": {},
   "source": [
    "Compare and contrast. This case, the P-value is < 0.05, and so there is enough evidence to reject the null hypothesis of the distribution being normal."
   ]
  },
  {
   "cell_type": "markdown",
   "metadata": {},
   "source": [
    "Now let's check the normality of real distributions"
   ]
  },
  {
   "cell_type": "code",
   "execution_count": 8,
   "metadata": {
    "collapsed": true
   },
   "outputs": [],
   "source": [
    "import quandl\n",
    "import datetime\n",
    "quandl.ApiConfig.api_key = \"\"\n",
    "\n",
    "end = datetime.datetime.now()\n",
    "start = end - datetime.timedelta(365*5)\n",
    "\n",
    "AAPL = quandl.get('EOD/AAPL', start_date=start, end_date=end)\n",
    "\n",
    "AAPLreturns = (AAPL['Close']/AAPL['Close'].shift(1))-1"
   ]
  },
  {
   "cell_type": "code",
   "execution_count": 9,
   "metadata": {},
   "outputs": [
    {
     "data": {
      "image/png": "[encoded data removed]",
      "text/plain": [
       "<matplotlib.figure.Figure at 0x10eccd400>"
      ]
     },
     "metadata": {},
     "output_type": "display_data"
    }
   ],
   "source": [
    "# Let's plot the distribution of prices and returns\n",
    "plt.figure(figsize=(16,6))\n",
    "plt.subplot(121)\n",
    "AAPL['Close'].hist(bins=100, label='AAPL_Prices')\n",
    "plt.subplot(122)\n",
    "AAPLreturns.hist(bins=100, label='AAPL_Returns')\n",
    "plt.show()"
   ]
  },
  {
   "cell_type": "markdown",
   "metadata": {},
   "source": [
    "Price levels are obviously not normal, but returns look close "
   ]
  },
  {
   "cell_type": "code",
   "execution_count": 10,
   "metadata": {},
   "outputs": [
    {
     "name": "stdout",
     "output_type": "stream",
     "text": [
      "AAPL Prices\n",
      "Test statistic:  0.6068973541259766 \n",
      "P-value:  0.0\n"
     ]
    }
   ],
   "source": [
    "AAPL_array = np.array(AAPL['Close'])\n",
    "print('AAPL Prices\\nTest statistic: ', stats.shapiro(AAPL_array)[0], \n",
    "      '\\nP-value: ', stats.shapiro(AAPL_array)[1])"
   ]
  },
  {
   "cell_type": "code",
   "execution_count": 11,
   "metadata": {},
   "outputs": [
    {
     "name": "stdout",
     "output_type": "stream",
     "text": [
      "AAPL Returns\n",
      "Test statistic:  0.3324963450431824 \n",
      "P-value:  0.0\n"
     ]
    }
   ],
   "source": [
    "AAPLreturns_array = np.array(AAPLreturns.dropna())\n",
    "print('AAPL Returns\\nTest statistic: ', stats.shapiro(AAPLreturns_array)[0], \n",
    "      '\\nP-value: ', stats.shapiro(AAPLreturns_array)[1])"
   ]
  },
  {
   "cell_type": "markdown",
   "metadata": {},
   "source": [
    "Looks like neither are normal since the p-value is < 5%"
   ]
  },
  {
   "cell_type": "markdown",
   "metadata": {},
   "source": [
    "Another test - Anderson Darling"
   ]
  },
  {
   "cell_type": "code",
   "execution_count": 12,
   "metadata": {},
   "outputs": [
    {
     "name": "stdout",
     "output_type": "stream",
     "text": [
      "Anderson Darling test\n",
      "Stats for normal distribution\n",
      " AndersonResult(statistic=0.093276307066844311, critical_values=array([ 0.576,  0.656,  0.787,  0.918,  1.092]), significance_level=array([ 15. ,  10. ,   5. ,   2.5,   1. ]))\n",
      "\n",
      "\n",
      "Stats for exp distribution\n",
      " AndersonResult(statistic=461.96932223869953, critical_values=array([ 0.576,  0.656,  0.787,  0.918,  1.092]), significance_level=array([ 15. ,  10. ,   5. ,   2.5,   1. ]))\n",
      "\n",
      "\n",
      "Stats for AAPL Returns's distribution\n",
      " AndersonResult(statistic=127.40971068941758, critical_values=array([ 0.574,  0.654,  0.785,  0.915,  1.089]), significance_level=array([ 15. ,  10. ,   5. ,   2.5,   1. ]))\n"
     ]
    }
   ],
   "source": [
    "print('Anderson Darling test')\n",
    "print('Stats for normal distribution\\n', stats.anderson(returns))\n",
    "print('\\n')\n",
    "print('Stats for exp distribution\\n', stats.anderson(returns_exp))\n",
    "print('\\n')\n",
    "print('Stats for AAPL Returns\\'s distribution\\n', stats.anderson(AAPLreturns_array))"
   ]
  },
  {
   "cell_type": "markdown",
   "metadata": {},
   "source": [
    "Here, we have three sets of values: the Anderson-Darling test statistic, a set of critical values, and a set of corresponding confidence levels, such as 15 percent, 10 percent, 5 percent, 2.5 percent, and 1 percent, as shown in the previous output. \n",
    "\n",
    "For the normal distribution, if we choose a 1 percent confidence level—the last value of the critical values, we see 1.088. The test statistic of 0.34 is < 1.088, hence the null hypothesis of a normal distribution cannot be rejected.\n",
    "\n",
    "The converse is true for the exponential distribution and the distribution of AAPL returns, which mean the null hypothesis of normality can be rejected."
   ]
  },
  {
   "cell_type": "markdown",
   "metadata": {},
   "source": [
    "The stats.anderson package can test for other distributions too"
   ]
  },
  {
   "cell_type": "code",
   "execution_count": 13,
   "metadata": {},
   "outputs": [
    {
     "name": "stdout",
     "output_type": "stream",
     "text": [
      "Help on function anderson in module scipy.stats.morestats:\n",
      "\n",
      "anderson(x, dist='norm')\n",
      "    Anderson-Darling test for data coming from a particular distribution\n",
      "    \n",
      "    The Anderson-Darling test is a modification of the Kolmogorov-\n",
      "    Smirnov test `kstest` for the null hypothesis that a sample is\n",
      "    drawn from a population that follows a particular distribution.\n",
      "    For the Anderson-Darling test, the critical values depend on\n",
      "    which distribution is being tested against.  This function works\n",
      "    for normal, exponential, logistic, or Gumbel (Extreme Value\n",
      "    Type I) distributions.\n",
      "    \n",
      "    Parameters\n",
      "    ----------\n",
      "    x : array_like\n",
      "        array of sample data\n",
      "    dist : {'norm','expon','logistic','gumbel','gumbel_l', gumbel_r',\n",
      "        'extreme1'}, optional\n",
      "        the type of distribution to test against.  The default is 'norm'\n",
      "        and 'extreme1', 'gumbel_l' and 'gumbel' are synonyms.\n",
      "    \n",
      "    Returns\n",
      "    -------\n",
      "    statistic : float\n",
      "        The Anderson-Darling test statistic\n",
      "    critical_values : list\n",
      "        The critical values for this distribution\n",
      "    significance_level : list\n",
      "        The significance levels for the corresponding critical values\n",
      "        in percents.  The function returns critical values for a\n",
      "        differing set of significance levels depending on the\n",
      "        distribution that is being tested against.\n",
      "    \n",
      "    Notes\n",
      "    -----\n",
      "    Critical values provided are for the following significance levels:\n",
      "    \n",
      "    normal/exponenential\n",
      "        15%, 10%, 5%, 2.5%, 1%\n",
      "    logistic\n",
      "        25%, 10%, 5%, 2.5%, 1%, 0.5%\n",
      "    Gumbel\n",
      "        25%, 10%, 5%, 2.5%, 1%\n",
      "    \n",
      "    If A2 is larger than these critical values then for the corresponding\n",
      "    significance level, the null hypothesis that the data come from the\n",
      "    chosen distribution can be rejected.\n",
      "    \n",
      "    References\n",
      "    ----------\n",
      "    .. [1] http://www.itl.nist.gov/div898/handbook/prc/section2/prc213.htm\n",
      "    .. [2] Stephens, M. A. (1974). EDF Statistics for Goodness of Fit and\n",
      "           Some Comparisons, Journal of the American Statistical Association,\n",
      "           Vol. 69, pp. 730-737.\n",
      "    .. [3] Stephens, M. A. (1976). Asymptotic Results for Goodness-of-Fit\n",
      "           Statistics with Unknown Parameters, Annals of Statistics, Vol. 4,\n",
      "           pp. 357-369.\n",
      "    .. [4] Stephens, M. A. (1977). Goodness of Fit for the Extreme Value\n",
      "           Distribution, Biometrika, Vol. 64, pp. 583-588.\n",
      "    .. [5] Stephens, M. A. (1977). Goodness of Fit with Special Reference\n",
      "           to Tests for Exponentiality , Technical Report No. 262,\n",
      "           Department of Statistics, Stanford University, Stanford, CA.\n",
      "    .. [6] Stephens, M. A. (1979). Tests of Fit for the Logistic Distribution\n",
      "           Based on the Empirical Distribution Function, Biometrika, Vol. 66,\n",
      "           pp. 591-595.\n",
      "\n"
     ]
    }
   ],
   "source": [
    "help(stats.anderson)"
   ]
  },
  {
   "cell_type": "markdown",
   "metadata": {},
   "source": [
    "** The 4 moments of a distribution **"
   ]
  },
  {
   "cell_type": "markdown",
   "metadata": {},
   "source": [
    "It's also useful to go beyond the usual mean and standard deviation into the other moments, as they provide us with clues on the normality of a distribution."
   ]
  },
  {
   "cell_type": "markdown",
   "metadata": {},
   "source": [
    "Mean:\n",
    "$$ Mean = \\bar R = \\frac{\\sum_i^n R_i}{n} $$\n",
    "<hr>\n",
    "Variance/Standard Deviation:\n",
    "\n",
    "$$ Variance = (Standard Deviation)^2 = \\sigma^2 = \\frac{\\sum_i^n (R_i-\\bar R)^2}{n-1} $$ \n",
    "<hr>\n",
    "Skew (skewed left, skewed right):\n",
    "\n",
    "$$ Skew = \\frac{\\sum_i^n (R_i-\\bar R)^3}{(n-1)\\sigma^3} $$ \n",
    "<hr>\n",
    "\n",
    "Kurtosis/Excess Kurtosis (peakness or fat tails)\n",
    "\n",
    "$$ Skew = \\frac{\\sum_i^n (R_i-\\bar R)^4}{(n-1)\\sigma^4} $$ or\n",
    "$$ Skew = \\frac{\\sum_i^n (R_i-\\bar R)^4}{(n-1)\\sigma^4} - 3 $$ "
   ]
  },
  {
   "cell_type": "markdown",
   "metadata": {},
   "source": [
    "The way to do it with libraries is much much simpler than the above"
   ]
  },
  {
   "cell_type": "code",
   "execution_count": 14,
   "metadata": {},
   "outputs": [
    {
     "name": "stdout",
     "output_type": "stream",
     "text": [
      "\n",
      " Mean:  1.19935920499 \n",
      " Standard Deviation:  0.301023661839 \n",
      " Skew:  0.0019636977663557873 \n",
      " Kurtosis 0.026479272360443673\n"
     ]
    }
   ],
   "source": [
    "print('\\n Mean: ', np.mean(returns), '\\n',\n",
    "     'Standard Deviation: ', np.std(returns), '\\n',\n",
    "     'Skew: ', stats.skew(returns), '\\n',\n",
    "     'Kurtosis', stats.kurtosis(returns))"
   ]
  },
  {
   "cell_type": "markdown",
   "metadata": {},
   "source": [
    "For a normal distribution, skewness ~ 0.03, kurtosis ~ 3. In this case, the stat being computed is excess kurtosis, so the value is close to 0 instead."
   ]
  },
  {
   "cell_type": "code",
   "execution_count": 19,
   "metadata": {},
   "outputs": [
    {
     "name": "stdout",
     "output_type": "stream",
     "text": [
      "Moments for AAPL Returns\n",
      "\n",
      " Mean:  0.000328091673061 \n",
      " Standard Deviation:  0.0279855695958 \n",
      " Skew:  -22.675005004193835 \n",
      " Kurtosis 691.1559815602365\n"
     ]
    }
   ],
   "source": [
    "print ('Moments for AAPL Returns')\n",
    "print('\\n Mean: ', np.mean(AAPLreturns_array), '\\n',\n",
    "     'Standard Deviation: ', np.std(AAPLreturns_array), '\\n',\n",
    "     'Skew: ', stats.skew(AAPLreturns_array), '\\n',\n",
    "     'Kurtosis', stats.kurtosis(AAPLreturns_array))"
   ]
  },
  {
   "cell_type": "markdown",
   "metadata": {},
   "source": [
    "Obviously not normal!"
   ]
  },
  {
   "cell_type": "code",
   "execution_count": 22,
   "metadata": {},
   "outputs": [
    {
     "name": "stdout",
     "output_type": "stream",
     "text": [
      "\n",
      " Mean of 0.2\n",
      " Ttest_1sampResult(statistic=331.9703274071677, pvalue=0.0)\n"
     ]
    }
   ],
   "source": [
    "# T tests - test statistic follows a student's t distribution if the null hypothesis is supported\n",
    "# Recall that the mean of our rets was 1.2\n",
    "# Let's apply t and p tests on different means\n",
    "\n",
    "print('\\n Mean of 0.2\\n', stats.ttest_1samp(returns, 0.2))"
   ]
  },
  {
   "cell_type": "markdown",
   "metadata": {},
   "source": [
    "We reject the null hypothesis since the T-value is huge and the P-value is 0."
   ]
  },
  {
   "cell_type": "code",
   "execution_count": 24,
   "metadata": {},
   "outputs": [
    {
     "name": "stdout",
     "output_type": "stream",
     "text": [
      "\n",
      " Mean of 1.205\n",
      " Ttest_1sampResult(statistic=-1.8737772736094489, pvalue=0.060990271728498281)\n"
     ]
    }
   ],
   "source": [
    "print('\\n Mean of 1.205\\n', stats.ttest_1samp(returns, 1.205))"
   ]
  },
  {
   "cell_type": "markdown",
   "metadata": {},
   "source": [
    "** Tests of Equal Variances **"
   ]
  },
  {
   "cell_type": "code",
   "execution_count": 31,
   "metadata": {},
   "outputs": [
    {
     "data": {
      "text/plain": [
       "0.30102366183899626"
      ]
     },
     "execution_count": 31,
     "metadata": {},
     "output_type": "execute_result"
    }
   ],
   "source": [
    "# Bartlett test\n",
    "\n",
    "# Create a normal distribution with std of 0.6\n",
    "np.random.seed(42)\n",
    "mean = 1.2\n",
    "std = 0.6\n",
    "n = 10000\n",
    "\n",
    "returns_2 = np.random.normal(mean, std, n)\n",
    "np.std(returns)"
   ]
  },
  {
   "cell_type": "code",
   "execution_count": 32,
   "metadata": {},
   "outputs": [
    {
     "data": {
      "text/plain": [
       "BartlettResult(statistic=4462.2016067879904, pvalue=0.0)"
      ]
     },
     "execution_count": 32,
     "metadata": {},
     "output_type": "execute_result"
    }
   ],
   "source": [
    "stats.bartlett(returns, returns_2)"
   ]
  },
  {
   "cell_type": "markdown",
   "metadata": {},
   "source": [
    "stat >> pvalue, so the variances are not equal"
   ]
  },
  {
   "cell_type": "code",
   "execution_count": 36,
   "metadata": {
    "collapsed": true
   },
   "outputs": [],
   "source": [
    "np.random.seed(42)\n",
    "mean = 1.2\n",
    "std = 0.3000\n",
    "n = 10000\n",
    "\n",
    "returns_3 = np.random.normal(mean, std, n)"
   ]
  },
  {
   "cell_type": "code",
   "execution_count": 37,
   "metadata": {},
   "outputs": [
    {
     "data": {
      "text/plain": [
       "BartlettResult(statistic=0.0, pvalue=1.0)"
      ]
     },
     "execution_count": 37,
     "metadata": {},
     "output_type": "execute_result"
    }
   ],
   "source": [
    "stats.bartlett(returns, returns_3)"
   ]
  },
  {
   "cell_type": "markdown",
   "metadata": {},
   "source": [
    "stat << pvalue, so the variances are equal"
   ]
  },
  {
   "cell_type": "markdown",
   "metadata": {},
   "source": [
    "** Test seasonality **"
   ]
  },
  {
   "cell_type": "markdown",
   "metadata": {},
   "source": [
    "Check to see if AAPL's Jan price are statistically different from other months"
   ]
  },
  {
   "cell_type": "code",
   "execution_count": 39,
   "metadata": {
    "collapsed": true
   },
   "outputs": [],
   "source": [
    "AAPL_Jan = AAPL[AAPL.index.month==1]['Close']"
   ]
  },
  {
   "cell_type": "code",
   "execution_count": 40,
   "metadata": {
    "collapsed": true
   },
   "outputs": [],
   "source": [
    "AAPL_OtherMonths = AAPL[AAPL.index.month!=1]['Close']"
   ]
  },
  {
   "cell_type": "code",
   "execution_count": 41,
   "metadata": {},
   "outputs": [
    {
     "data": {
      "text/plain": [
       "Ttest_indResult(statistic=1.6139723596905229, pvalue=0.10678460475281105)"
      ]
     },
     "execution_count": 41,
     "metadata": {},
     "output_type": "execute_result"
    }
   ],
   "source": [
    "stats.ttest_ind(AAPL_Jan, AAPL_OtherMonths)"
   ]
  },
  {
   "cell_type": "markdown",
   "metadata": {},
   "source": [
    "From https://docs.scipy.org/doc/scipy/reference/generated/scipy.stats.ttest_ind.html\n",
    "\n",
    "If we observe a large p-value, for example larger than 0.05 or 0.1, then we cannot reject the null hypothesis of identical average scores (or in this case Jan prices being similar to other months). If the p-value is smaller than a threshold, e.g. 1%, 5% or 10%, then we can reject the null hypothesis of identical average scores (or in this case Jan prices being statistically different to other months). So in this case, we don't have enough evidence of Jan prices being statistically different from that of other months."
   ]
  },
  {
   "cell_type": "code",
   "execution_count": null,
   "metadata": {
    "collapsed": true
   },
   "outputs": [],
   "source": []
  }
 ],
 "metadata": {
  "kernelspec": {
   "display_name": "Python [default]",
   "language": "python",
   "name": "python3"
  },
  "language_info": {
   "codemirror_mode": {
    "name": "ipython",
    "version": 3
   },
   "file_extension": ".py",
   "mimetype": "text/x-python",
   "name": "python",
   "nbconvert_exporter": "python",
   "pygments_lexer": "ipython3",
   "version": "3.5.3"
  }
 },
 "nbformat": 4,
 "nbformat_minor": 2
}
