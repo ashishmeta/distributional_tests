{
 "cells": [
  {
   "cell_type": "markdown",
   "metadata": {},
   "source": [
    "### SSS - Summarisation ###"
   ]
  },
  {
   "cell_type": "markdown",
   "metadata": {},
   "source": [
    "*Super simple script (SSS) for summarising stuff*"
   ]
  },
  {
   "cell_type": "markdown",
   "metadata": {},
   "source": [
    "Get the html text for summarisation - see HTML Scraping 101 for a detailed explanation on how to scrape data from a webpage"
   ]
  },
  {
   "cell_type": "code",
   "execution_count": 1,
   "metadata": {},
   "outputs": [],
   "source": [
    "import requests\n",
    "import bs4\n",
    "source = 'https://www.bloomberg.com/news/articles/2018-08-01/u-s-to-consider-higher-tariff-on-200-billion-of-china-imports'\n",
    "html = requests.get(source).content\n",
    "soup = bs4.BeautifulSoup(html, 'html5lib')\n",
    "paras = soup.findAll('p', class_=None)"
   ]
  },
  {
   "cell_type": "markdown",
   "metadata": {},
   "source": [
    "Append each of the paras into a list ..."
   ]
  },
  {
   "cell_type": "code",
   "execution_count": 2,
   "metadata": {},
   "outputs": [],
   "source": [
    "text = []\n",
    "for p in paras:\n",
    "    text.append(p.text)"
   ]
  },
  {
   "cell_type": "markdown",
   "metadata": {},
   "source": [
    "And then join them, with a space in between"
   ]
  },
  {
   "cell_type": "code",
   "execution_count": 3,
   "metadata": {},
   "outputs": [],
   "source": [
    "text = \" \".join(text)"
   ]
  },
  {
   "cell_type": "markdown",
   "metadata": {},
   "source": [
    "The article, stored in 'text', which we will be summarising"
   ]
  },
  {
   "cell_type": "code",
   "execution_count": 4,
   "metadata": {},
   "outputs": [
    {
     "data": {
      "text/plain": [
       "'China said that the latest threat by the U.S. to increase tariffs won’t succeed in forcing concessions from Beijing. “China is fully prepared and will have to retaliate to defend the nation’s dignity and the interests of the people, defend free trade and the multilateral system, and defend the common interests of all countries,” China’s Ministry of Commerce said in a statement Thursday on its website. The “carrot-and-stick” tactic won’t work, it said. The Trump administration said Wednesday that it’s considering increasing the proposed tariff on $200 billion in Chinese imports to 25 percent from 10 percent, in a bid to force China back to the negotiating table. President Donald Trump has asked U.S. Trade Representative Robert Lighthizer to consider hiking the duties, which could be implemented as early as next month. China’s yuan extended loss following Mofcom’s comments, signaling investor concern that the trade war is escalating. The onshore currency tumbled 0.35 percent to 6.8494 per dollar, the lowest level in more than a year, as of 5:58 p.m. in Shanghai. The offshore rate lost 0.58 percent. Earlier, shares in Asia fell. The U.S. had indicated it is open to restarting formal negotiations with China, though Beijing must agree to open its markets to more competition and stop retaliating against U.S. trade measures. Along with its pledge to fight back, China also left the door open for a resumption of negotiations. The statement also left out language that had been used previously pledging to fight back using the “same scale, same intensity” as the U.S. trade measures. “China has consistently advocated resolving differences through dialogue, but only on the condition that we treat each other equally and honor our words,” the ministry said. “The Chinese side always believes that bad things can turn into good things and challenges can be turned into opportunities.” Robert Lighthizer The proposed higher tariff “is intended to provide the administration with additional options to encourage China to change its harmful policies and behavior and adopt policies that will lead to fairer markets,” Lighthizer said in an emailed statement Wednesday. Bloomberg reported on Tuesday that the administration was considering boosting tariffs to 25 percent. The U.S. is open to renewing formal negotiations with China, though Beijing must agree to open its markets to more competition and stop retaliating against U.S. trade measures, according to two senior administration officials who briefed reporters on the condition of anonymity. The move to more than double the proposed tariff may inflame already heightened tensions between the world’s two largest economies. The International Monetary Fund has cited escalating trade disputes as a growing downside risk that’s threatening the strongest global economic upswing in seven years. Asian stocks declined as trade worries came back to the fore, with China and Hong Kong equity indexes leading declines. Increasing the pressure on China by threatening even higher tariffs could backfire. Beijing responded to news reports on Tuesday about the planned tariff increase by cautioning the U.S. against “blackmailing and pressuring” and it vowed to strike back at every escalation. The administration last month released a list of thousands Chinese products it wants to slap with an additional 10 percent in tariffs, ranging from television components to handbags and seafood to baseball gloves. The duties could take effect after the administration draws up its revised, final list of imports following a public comment period. Hearings are scheduled for Aug. 20 to 23 and the comment period has been extended to Sept. 5 from late August, according to Lighthizer’s office. The first wave of 25 percent tariffs on $34 billion of Chinese goods took effect last month, prompting immediate in-kind retaliation from China, and the next round on $16 billion could be implemented by the U.S. in the coming days or weeks. Trump said last month that he’s willing to impose tariffs on every good imported from China, which totaled more than $500 billion last year. American companies, industry and consumer groups have pleaded with the administration to avoid tariffs, saying they could raise their costs and eventually lead to price hikes for consumers. Implementing the tariffs would complicate the Federal Reserve’s decision-making on interest rates. Omair Sharif, an economist at Societe Generale in New York, said a 25 percent tariff on the entire $200 billion product list could cause inflation to surge by 1.1 percentage point. Assuming the levies get passed along to customers, the annual increase in the consumer price index, excluding food and energy, would jump to 3.4 percent from the current rate of 2.3 percent, he said in a research note on Wednesday. The Institute for Supply Management’s latest survey released Wednesday indicated that U.S. companies are already mulling significant investment changes. While manufacturers are experiencing healthy demand in the U.S., they’re considering expanding outside the country to avoid tariffs, Timothy Fiore, chairman of the ISM manufacturing survey, said on a conference call with reporters. Representatives of U.S. Treasury Secretary Steven Mnuchin and Chinese Vice Premier Liu He are having private conversations as they look for ways to reengage in negotiations after talks broke down last month, according to people who spoke about the deliberations on condition of anonymity. — With assistance by Andrew Mayeda, Miao Han, and Tian Chen'"
      ]
     },
     "execution_count": 4,
     "metadata": {},
     "output_type": "execute_result"
    }
   ],
   "source": [
    "text"
   ]
  },
  {
   "cell_type": "markdown",
   "metadata": {},
   "source": [
    "Now for the main part of this SSS - summarisation of the above"
   ]
  },
  {
   "cell_type": "markdown",
   "metadata": {},
   "source": [
    "Import the relevant libraries first"
   ]
  },
  {
   "cell_type": "code",
   "execution_count": 5,
   "metadata": {
    "scrolled": true
   },
   "outputs": [],
   "source": [
    "from sumy.parsers.plaintext import PlaintextParser\n",
    "from sumy.nlp.tokenizers import Tokenizer\n",
    "from sumy.summarizers.lex_rank import LexRankSummarizer"
   ]
  },
  {
   "cell_type": "markdown",
   "metadata": {},
   "source": [
    "3 lines, and the text above is summarised!"
   ]
  },
  {
   "cell_type": "code",
   "execution_count": 6,
   "metadata": {
    "collapsed": true
   },
   "outputs": [],
   "source": [
    "parser = PlaintextParser(text, Tokenizer('english'))\n",
    "summarizer = LexRankSummarizer()\n",
    "summary = summarizer(parser.document, 5)"
   ]
  },
  {
   "cell_type": "code",
   "execution_count": 7,
   "metadata": {},
   "outputs": [
    {
     "name": "stdout",
     "output_type": "stream",
     "text": [
      "China said that the latest threat by the U.S. to increase tariffs won’t succeed in forcing concessions from Beijing.\n",
      "The Trump administration said Wednesday that it’s considering increasing the proposed tariff on $200 billion in Chinese imports to 25 percent from 10 percent, in a bid to force China back to the negotiating table.\n",
      "Along with its pledge to fight back, China also left the door open for a resumption of negotiations.\n",
      "The first wave of 25 percent tariffs on $34 billion of Chinese goods took effect last month, prompting immediate in-kind retaliation from China, and the next round on $16 billion could be implemented by the U.S. in the coming days or weeks.\n",
      "Trump said last month that he’s willing to impose tariffs on every good imported from China, which totaled more than $500 billion last year.\n"
     ]
    }
   ],
   "source": [
    "for sentence in summary:\n",
    "    print(sentence)"
   ]
  },
  {
   "cell_type": "code",
   "execution_count": null,
   "metadata": {
    "collapsed": true
   },
   "outputs": [],
   "source": []
  }
 ],
 "metadata": {
  "kernelspec": {
   "display_name": "Python [conda env:pydata]",
   "language": "python",
   "name": "conda-env-pydata-py"
  },
  "language_info": {
   "codemirror_mode": {
    "name": "ipython",
    "version": 3
   },
   "file_extension": ".py",
   "mimetype": "text/x-python",
   "name": "python",
   "nbconvert_exporter": "python",
   "pygments_lexer": "ipython3",
   "version": "3.5.3"
  }
 },
 "nbformat": 4,
 "nbformat_minor": 2
}
